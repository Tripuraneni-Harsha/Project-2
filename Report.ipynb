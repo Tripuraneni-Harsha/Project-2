{
 "cells": [
  {
   "cell_type": "markdown",
   "metadata": {},
   "source": [
    "# Sitemap Data Extraction from NFL.com\n",
    "\n",
    "This notebook demonstrates the process of extracting sitemap data from the NFL website. The `NFLSitemapExtractor` class is designed to parse the sitemap XML files listed in the `robots.txt` file of the website and compile the URLs into a pandas DataFrame. The objective is to collect a comprehensive list of URLs from the website for further analysis or data collection tasks.\n"
   ]
  },
  {
   "cell_type": "code",
   "execution_count": 1,
   "metadata": {},
   "outputs": [],
   "source": [
    "import pandas as pd\n",
    "from sitemap_extractor import NFLSitemapExtractor\n"
   ]
  },
  {
   "cell_type": "markdown",
   "metadata": {},
   "source": [
    "## Initializing the Sitemap Extractor\n",
    "\n",
    "We initialize the `NFLSitemapExtractor` with the base URL of the NFL website and perform the sitemap extraction process.\n"
   ]
  },
  {
   "cell_type": "code",
   "execution_count": 2,
   "metadata": {},
   "outputs": [],
   "source": [
    "# Using the class\n",
    "nfl_scraper = NFLSitemapExtractor(\"https://www.nfl.com\")\n",
    "nfl_scraper.refine_urls()\n",
    "nfl_scraper.save_csv()\n",
    "\n",
    "# Combine all sitemaps into a single DataFrame for analysis\n",
    "combined_df = pd.concat(nfl_scraper.sitemaps.values(), ignore_index=True)\n"
   ]
  },
  {
   "cell_type": "markdown",
   "metadata": {},
   "source": [
    "## Displaying the Extracted Sitemap URLs\n",
    "\n",
    "After extracting and refining the URLs from the sitemaps, we display the combined data to verify the extraction process.\n"
   ]
  },
  {
   "cell_type": "code",
   "execution_count": 3,
   "metadata": {},
   "outputs": [
    {
     "data": {
      "text/html": [
       "<div>\n",
       "<style scoped>\n",
       "    .dataframe tbody tr th:only-of-type {\n",
       "        vertical-align: middle;\n",
       "    }\n",
       "\n",
       "    .dataframe tbody tr th {\n",
       "        vertical-align: top;\n",
       "    }\n",
       "\n",
       "    .dataframe thead th {\n",
       "        text-align: right;\n",
       "    }\n",
       "</style>\n",
       "<table border=\"1\" class=\"dataframe\">\n",
       "  <thead>\n",
       "    <tr style=\"text-align: right;\">\n",
       "      <th></th>\n",
       "      <th>URLs</th>\n",
       "      <th>Subdirectories</th>\n",
       "    </tr>\n",
       "  </thead>\n",
       "  <tbody>\n",
       "    <tr>\n",
       "      <th>0</th>\n",
       "      <td>https://www.nfl.com/</td>\n",
       "      <td>[, ]</td>\n",
       "    </tr>\n",
       "    <tr>\n",
       "      <th>1</th>\n",
       "      <td>https://www.nfl.com/manifest.json</td>\n",
       "      <td>[, manifest.json]</td>\n",
       "    </tr>\n",
       "    <tr>\n",
       "      <th>2</th>\n",
       "      <td>https://www.nfl.com/sitemap-nfldrafttracker</td>\n",
       "      <td>[, sitemap-nfldrafttracker]</td>\n",
       "    </tr>\n",
       "    <tr>\n",
       "      <th>3</th>\n",
       "      <td>https://www.nfl.com/sitemap-nflprospects</td>\n",
       "      <td>[, sitemap-nflprospects]</td>\n",
       "    </tr>\n",
       "    <tr>\n",
       "      <th>4</th>\n",
       "      <td>https://www.nfl.com/sitemap-nflprospects-2021</td>\n",
       "      <td>[, sitemap-nflprospects-2021]</td>\n",
       "    </tr>\n",
       "  </tbody>\n",
       "</table>\n",
       "</div>"
      ],
      "text/plain": [
       "                                            URLs  \\\n",
       "0                           https://www.nfl.com/   \n",
       "1              https://www.nfl.com/manifest.json   \n",
       "2    https://www.nfl.com/sitemap-nfldrafttracker   \n",
       "3       https://www.nfl.com/sitemap-nflprospects   \n",
       "4  https://www.nfl.com/sitemap-nflprospects-2021   \n",
       "\n",
       "                  Subdirectories  \n",
       "0                           [, ]  \n",
       "1              [, manifest.json]  \n",
       "2    [, sitemap-nfldrafttracker]  \n",
       "3       [, sitemap-nflprospects]  \n",
       "4  [, sitemap-nflprospects-2021]  "
      ]
     },
     "execution_count": 3,
     "metadata": {},
     "output_type": "execute_result"
    }
   ],
   "source": [
    "# Display the first few rows of the combined DataFrame\n",
    "combined_df.head()\n"
   ]
  },
  {
   "cell_type": "markdown",
   "metadata": {},
   "source": [
    "## Task 1: NFL Sitemap Data Analysis\n",
    "\n",
    "The dataset extracted from the NFL website's sitemap contains a comprehensive list of URLs available on the site. This dataset is pivotal for understanding the website's structure and the types of content available. Each entry in the dataset has two main components: the URL and the subdirectories extracted from it.\n",
    "\n",
    "The 'URLs' column lists the individual addresses of pages, while the 'Subdirectories' column provides a breakdown of the URL path. For instance, sitemap paths for draft trackers, prospects, and video archives are included, indicating various resources that could be used for further analysis or scraping.\n",
    "\n",
    "This data could be utilized for several purposes, such as:\n",
    "\n",
    "- SEO analysis to understand how the website is structured and which pages are prioritized.\n",
    "- Content auditing for identifying all the different types of content the site offers.\n",
    "- Automating the collection of data from specific sections of the website, like draft trackers or video archives, for sports analytics.\n"
   ]
  },
  {
   "cell_type": "markdown",
   "metadata": {},
   "source": [
    "## Saving the Combined Sitemap Data to CSV\n",
    "\n",
    "For convenience and further processing, we save the combined sitemap data into a CSV file named `NFL_COMBINED_SITEMAP.csv`.\n"
   ]
  },
  {
   "cell_type": "code",
   "execution_count": 4,
   "metadata": {},
   "outputs": [
    {
     "name": "stdout",
     "output_type": "stream",
     "text": [
      "The combined sitemap data has been saved to NFL_COMBINED_SITEMAP.csv.\n"
     ]
    }
   ],
   "source": [
    "# Save the combined sitemap data to a CSV file\n",
    "combined_df.to_csv(\"NFL_COMBINED_SITEMAP.csv\", index=False)\n",
    "\n",
    "# Output a message upon successful save\n",
    "print(\"The combined sitemap data has been saved to NFL_COMBINED_SITEMAP.csv.\")\n"
   ]
  },
  {
   "cell_type": "markdown",
   "metadata": {},
   "source": [
    "# Task 2: Fetching Country Data Using a REST API\n",
    "\n",
    "In this task, we utilize the `CountryDataFetcher` class to retrieve data from a REST API that provides comprehensive country details. The class fetches the data, processes it into a structured format, and then converts it into a pandas DataFrame for easier manipulation and analysis.\n"
   ]
  },
  {
   "cell_type": "code",
   "execution_count": 5,
   "metadata": {},
   "outputs": [],
   "source": [
    "import pandas as pd\n",
    "from country_data_fetcher import CountryDataFetcher\n"
   ]
  },
  {
   "cell_type": "markdown",
   "metadata": {},
   "source": [
    "## Initializing the Country Data Fetcher\n",
    "\n",
    "We will initialize the `CountryDataFetcher` and fetch country data from the API.\n"
   ]
  },
  {
   "cell_type": "code",
   "execution_count": 6,
   "metadata": {},
   "outputs": [],
   "source": [
    "# Initialize the CountryDataFetcher\n",
    "fetcher = CountryDataFetcher()\n",
    "\n",
    "# Fetch and process the country data\n",
    "try:\n",
    "    raw_data = fetcher.fetch_data()\n",
    "    fetcher.process_data(raw_data)\n",
    "    countries_df = fetcher.create_dataframe()\n",
    "except Exception as e:\n",
    "    print(f\"An error occurred: {e}\")\n"
   ]
  },
  {
   "cell_type": "markdown",
   "metadata": {},
   "source": [
    "## Displaying the Country Data\n",
    "\n",
    "Once the data is fetched and processed into a pandas DataFrame, we can easily view and analyze it.\n"
   ]
  },
  {
   "cell_type": "code",
   "execution_count": 7,
   "metadata": {},
   "outputs": [
    {
     "data": {
      "text/html": [
       "<div>\n",
       "<style scoped>\n",
       "    .dataframe tbody tr th:only-of-type {\n",
       "        vertical-align: middle;\n",
       "    }\n",
       "\n",
       "    .dataframe tbody tr th {\n",
       "        vertical-align: top;\n",
       "    }\n",
       "\n",
       "    .dataframe thead th {\n",
       "        text-align: right;\n",
       "    }\n",
       "</style>\n",
       "<table border=\"1\" class=\"dataframe\">\n",
       "  <thead>\n",
       "    <tr style=\"text-align: right;\">\n",
       "      <th></th>\n",
       "      <th>Country</th>\n",
       "      <th>Capital</th>\n",
       "      <th>Population</th>\n",
       "      <th>Area</th>\n",
       "      <th>Region</th>\n",
       "      <th>Subregion</th>\n",
       "      <th>Languages</th>\n",
       "      <th>Currencies</th>\n",
       "      <th>Timezones</th>\n",
       "    </tr>\n",
       "  </thead>\n",
       "  <tbody>\n",
       "    <tr>\n",
       "      <th>0</th>\n",
       "      <td>Burkina Faso</td>\n",
       "      <td>Ouagadougou</td>\n",
       "      <td>20903278</td>\n",
       "      <td>272967.0</td>\n",
       "      <td>Africa</td>\n",
       "      <td>Western Africa</td>\n",
       "      <td>{'fra': 'French'}</td>\n",
       "      <td>{'XOF': {'name': 'West African CFA franc', 'sy...</td>\n",
       "      <td>[UTC]</td>\n",
       "    </tr>\n",
       "    <tr>\n",
       "      <th>1</th>\n",
       "      <td>Hong Kong</td>\n",
       "      <td>City of Victoria</td>\n",
       "      <td>7500700</td>\n",
       "      <td>1104.0</td>\n",
       "      <td>Asia</td>\n",
       "      <td>Eastern Asia</td>\n",
       "      <td>{'eng': 'English', 'zho': 'Chinese'}</td>\n",
       "      <td>{'HKD': {'name': 'Hong Kong dollar', 'symbol':...</td>\n",
       "      <td>[UTC+08:00]</td>\n",
       "    </tr>\n",
       "    <tr>\n",
       "      <th>2</th>\n",
       "      <td>United Arab Emirates</td>\n",
       "      <td>Abu Dhabi</td>\n",
       "      <td>9890400</td>\n",
       "      <td>83600.0</td>\n",
       "      <td>Asia</td>\n",
       "      <td>Western Asia</td>\n",
       "      <td>{'ara': 'Arabic'}</td>\n",
       "      <td>{'AED': {'name': 'United Arab Emirates dirham'...</td>\n",
       "      <td>[UTC+04:00]</td>\n",
       "    </tr>\n",
       "    <tr>\n",
       "      <th>3</th>\n",
       "      <td>Antigua and Barbuda</td>\n",
       "      <td>Saint John's</td>\n",
       "      <td>97928</td>\n",
       "      <td>442.0</td>\n",
       "      <td>Americas</td>\n",
       "      <td>Caribbean</td>\n",
       "      <td>{'eng': 'English'}</td>\n",
       "      <td>{'XCD': {'name': 'Eastern Caribbean dollar', '...</td>\n",
       "      <td>[UTC-04:00]</td>\n",
       "    </tr>\n",
       "    <tr>\n",
       "      <th>4</th>\n",
       "      <td>Comoros</td>\n",
       "      <td>Moroni</td>\n",
       "      <td>869595</td>\n",
       "      <td>1862.0</td>\n",
       "      <td>Africa</td>\n",
       "      <td>Eastern Africa</td>\n",
       "      <td>{'ara': 'Arabic', 'fra': 'French', 'zdj': 'Com...</td>\n",
       "      <td>{'KMF': {'name': 'Comorian franc', 'symbol': '...</td>\n",
       "      <td>[UTC+03:00]</td>\n",
       "    </tr>\n",
       "  </tbody>\n",
       "</table>\n",
       "</div>"
      ],
      "text/plain": [
       "                Country           Capital  Population      Area    Region  \\\n",
       "0          Burkina Faso       Ouagadougou    20903278  272967.0    Africa   \n",
       "1             Hong Kong  City of Victoria     7500700    1104.0      Asia   \n",
       "2  United Arab Emirates         Abu Dhabi     9890400   83600.0      Asia   \n",
       "3   Antigua and Barbuda      Saint John's       97928     442.0  Americas   \n",
       "4               Comoros            Moroni      869595    1862.0    Africa   \n",
       "\n",
       "        Subregion                                          Languages  \\\n",
       "0  Western Africa                                  {'fra': 'French'}   \n",
       "1    Eastern Asia               {'eng': 'English', 'zho': 'Chinese'}   \n",
       "2    Western Asia                                  {'ara': 'Arabic'}   \n",
       "3       Caribbean                                 {'eng': 'English'}   \n",
       "4  Eastern Africa  {'ara': 'Arabic', 'fra': 'French', 'zdj': 'Com...   \n",
       "\n",
       "                                          Currencies    Timezones  \n",
       "0  {'XOF': {'name': 'West African CFA franc', 'sy...        [UTC]  \n",
       "1  {'HKD': {'name': 'Hong Kong dollar', 'symbol':...  [UTC+08:00]  \n",
       "2  {'AED': {'name': 'United Arab Emirates dirham'...  [UTC+04:00]  \n",
       "3  {'XCD': {'name': 'Eastern Caribbean dollar', '...  [UTC-04:00]  \n",
       "4  {'KMF': {'name': 'Comorian franc', 'symbol': '...  [UTC+03:00]  "
      ]
     },
     "execution_count": 7,
     "metadata": {},
     "output_type": "execute_result"
    }
   ],
   "source": [
    "# Display the first few rows of the DataFrame\n",
    "countries_df.head()\n"
   ]
  },
  {
   "cell_type": "markdown",
   "metadata": {},
   "source": [
    "## Task 2: Country Data Overview\n",
    "\n",
    "The dataset obtained from the REST Countries API comprises detailed information about different countries around the world. Each record in the dataset includes the country's name, capital city, population, land area, region, subregion, spoken languages, currencies, and timezones.\n",
    "\n",
    "For example, the dataset provides information that Burkina Faso's capital is Ouagadougou, its population is over 20 million, and its official language is French, with the West African CFA franc as its currency.\n",
    "\n",
    "This dataset can serve as a rich source for various analytical inquiries, such as:\n",
    "\n",
    "- Demographic and geographical studies comparing population sizes and land areas.\n",
    "- Economic analysis exploring the diversity of currencies and their distribution by region.\n",
    "- Cultural studies investigating the prevalence of different languages within and across continents.\n"
   ]
  },
  {
   "cell_type": "markdown",
   "metadata": {},
   "source": [
    "## Saving the Country Data to a CSV File\n",
    "\n",
    "For ease of access and future use, the country data collected from the REST Countries API can be saved to a CSV file. This allows for offline analysis and can be shared easily with others for further research or educational purposes.\n"
   ]
  },
  {
   "cell_type": "code",
   "execution_count": 8,
   "metadata": {},
   "outputs": [
    {
     "name": "stdout",
     "output_type": "stream",
     "text": [
      "Country data has been successfully saved to country_data.csv.\n"
     ]
    }
   ],
   "source": [
    "# Save the country data to a CSV file named 'country_data.csv'\n",
    "countries_df.to_csv('country_data.csv', index=False)\n",
    "\n",
    "# Output a message upon successful save\n",
    "print(\"Country data has been successfully saved to country_data.csv.\")\n"
   ]
  },
  {
   "cell_type": "markdown",
   "metadata": {},
   "source": [
    "# Task 3: Web Scraping Box Office Data\n",
    "\n",
    "In this task, we utilize the `BoxOfficeDataFetcher` class to scrape box office data from Box Office Mojo. The class is designed to iterate over a range of years, scrape the box office data for each year, and compile it into a single pandas DataFrame.\n"
   ]
  },
  {
   "cell_type": "code",
   "execution_count": 9,
   "metadata": {},
   "outputs": [],
   "source": [
    "import pandas as pd\n",
    "from BoxOfficeDataFetcher import BoxOfficeDataFetcher\n"
   ]
  },
  {
   "cell_type": "markdown",
   "metadata": {},
   "source": [
    "## Initializing the Box Office Data Fetcher\n",
    "\n",
    "We will initialize the `BoxOfficeDataFetcher` with the range of years we are interested in and fetch the box office data for each year.\n"
   ]
  },
  {
   "cell_type": "code",
   "execution_count": 10,
   "metadata": {},
   "outputs": [
    {
     "name": "stdout",
     "output_type": "stream",
     "text": [
      "Fetching data for year: 2022\n"
     ]
    },
    {
     "data": {
      "text/html": [
       "<div>\n",
       "<style scoped>\n",
       "    .dataframe tbody tr th:only-of-type {\n",
       "        vertical-align: middle;\n",
       "    }\n",
       "\n",
       "    .dataframe tbody tr th {\n",
       "        vertical-align: top;\n",
       "    }\n",
       "\n",
       "    .dataframe thead th {\n",
       "        text-align: right;\n",
       "    }\n",
       "</style>\n",
       "<table border=\"1\" class=\"dataframe\">\n",
       "  <thead>\n",
       "    <tr style=\"text-align: right;\">\n",
       "      <th></th>\n",
       "      <th>Rank</th>\n",
       "      <th>Release Group</th>\n",
       "      <th>Worldwide</th>\n",
       "      <th>Domestic</th>\n",
       "      <th>%</th>\n",
       "      <th>Foreign</th>\n",
       "      <th>%</th>\n",
       "      <th>Year</th>\n",
       "    </tr>\n",
       "  </thead>\n",
       "  <tbody>\n",
       "    <tr>\n",
       "      <th>0</th>\n",
       "      <td>1</td>\n",
       "      <td>Avatar: The Way of Water</td>\n",
       "      <td>$2,320,250,281</td>\n",
       "      <td>$684,075,767</td>\n",
       "      <td>29.5%</td>\n",
       "      <td>$1,636,174,514</td>\n",
       "      <td>70.5%</td>\n",
       "      <td>2022</td>\n",
       "    </tr>\n",
       "    <tr>\n",
       "      <th>1</th>\n",
       "      <td>2</td>\n",
       "      <td>Top Gun: Maverick</td>\n",
       "      <td>$1,495,696,292</td>\n",
       "      <td>$718,732,821</td>\n",
       "      <td>48.1%</td>\n",
       "      <td>$776,963,471</td>\n",
       "      <td>51.9%</td>\n",
       "      <td>2022</td>\n",
       "    </tr>\n",
       "    <tr>\n",
       "      <th>2</th>\n",
       "      <td>3</td>\n",
       "      <td>Jurassic World Dominion</td>\n",
       "      <td>$1,001,978,080</td>\n",
       "      <td>$376,851,080</td>\n",
       "      <td>37.6%</td>\n",
       "      <td>$625,127,000</td>\n",
       "      <td>62.4%</td>\n",
       "      <td>2022</td>\n",
       "    </tr>\n",
       "    <tr>\n",
       "      <th>3</th>\n",
       "      <td>4</td>\n",
       "      <td>Doctor Strange in the Multiverse of Madness</td>\n",
       "      <td>$955,775,804</td>\n",
       "      <td>$411,331,607</td>\n",
       "      <td>43%</td>\n",
       "      <td>$544,444,197</td>\n",
       "      <td>57%</td>\n",
       "      <td>2022</td>\n",
       "    </tr>\n",
       "    <tr>\n",
       "      <th>4</th>\n",
       "      <td>5</td>\n",
       "      <td>Minions: The Rise of Gru</td>\n",
       "      <td>$939,628,210</td>\n",
       "      <td>$369,695,210</td>\n",
       "      <td>39.3%</td>\n",
       "      <td>$569,933,000</td>\n",
       "      <td>60.7%</td>\n",
       "      <td>2022</td>\n",
       "    </tr>\n",
       "  </tbody>\n",
       "</table>\n",
       "</div>"
      ],
      "text/plain": [
       "  Rank                                Release Group       Worldwide  \\\n",
       "0    1                     Avatar: The Way of Water  $2,320,250,281   \n",
       "1    2                            Top Gun: Maverick  $1,495,696,292   \n",
       "2    3                      Jurassic World Dominion  $1,001,978,080   \n",
       "3    4  Doctor Strange in the Multiverse of Madness    $955,775,804   \n",
       "4    5                     Minions: The Rise of Gru    $939,628,210   \n",
       "\n",
       "       Domestic      %         Foreign      %  Year  \n",
       "0  $684,075,767  29.5%  $1,636,174,514  70.5%  2022  \n",
       "1  $718,732,821  48.1%    $776,963,471  51.9%  2022  \n",
       "2  $376,851,080  37.6%    $625,127,000  62.4%  2022  \n",
       "3  $411,331,607    43%    $544,444,197    57%  2022  \n",
       "4  $369,695,210  39.3%    $569,933,000  60.7%  2022  "
      ]
     },
     "execution_count": 10,
     "metadata": {},
     "output_type": "execute_result"
    }
   ],
   "source": [
    "# Initialize the BoxOfficeDataFetcher with the desired range of years\n",
    "start_year = 2022  # for example, let's start with the year 2022\n",
    "end_year = 2022  # and end with the same year for demonstration purposes\n",
    "box_office_fetcher = BoxOfficeDataFetcher(start_year, end_year)\n",
    "\n",
    "# Fetch box office data for all specified years\n",
    "box_office_data = box_office_fetcher.fetch_all_years_data()\n",
    "\n",
    "# Display the first few rows of the combined DataFrame\n",
    "box_office_data.head()\n"
   ]
  },
  {
   "cell_type": "markdown",
   "metadata": {},
   "source": [
    "## Initial Analysis of Box Office Data from 1977 to 2023\n",
    "\n",
    "The displayed DataFrame showcases a snapshot of box office earnings data spanning from 1977 to 2023. This data captures pivotal financial metrics of movie releases, such as their 'Rank', 'Release Group', 'Worldwide' earnings, 'Domestic' and 'Foreign' earnings breakdown, along with the percentage distribution of earnings across domestic and foreign markets.\n",
    "\n",
    "From the classic success of 'Star Wars: Episode IV - A New Hope' in 1977, which remarkably earned 100% of its revenue domestically, to the more recent figures of 2023, we observe significant shifts in the cinema landscape. Notably, the absence of 'Foreign' earnings in earlier years may reflect a domestic-centric distribution model, which has evidently evolved in recent decades to embrace global markets.\n",
    "\n",
    "The following points stand out from the data:\n",
    "- The 'Worldwide' earnings column provides insight into the overall commercial success of the movies.\n",
    "- The 'Domestic' and 'Foreign' columns, along with their respective percentages, highlight the international appeal of certain releases.\n",
    "- Comparing 'Domestic' and 'Foreign' percentages over time could reveal changing patterns in global movie consumption and distribution strategies.\n",
    "\n",
    "Further analysis will delve deeper into these aspects, examining trends and correlations within the global box office market. We will also consider the impact of digital streaming services and other market changes on the international distribution of movies.\n"
   ]
  },
  {
   "cell_type": "markdown",
   "metadata": {},
   "source": [
    "## Analysis of Box Office Data\n",
    "\n",
    "The DataFrame `box_office_data` contains comprehensive box office information including titles, gross earnings, opening earnings, and more, for each movie released in the specified years. This data can be used for a range of analyses, such as:\n",
    "\n",
    "- Identifying trends in movie earnings over the years.\n",
    "- Comparing the performance of genres or franchises.\n",
    "- Analyzing the impact of seasonality on movie earnings.\n"
   ]
  },
  {
   "cell_type": "code",
   "execution_count": 11,
   "metadata": {},
   "outputs": [
    {
     "name": "stdout",
     "output_type": "stream",
     "text": [
      "Box office data saved to 'box_office_data.csv'.\n"
     ]
    }
   ],
   "source": [
    "# Optionally, save the DataFrame to a CSV file for offline analysis\n",
    "box_office_data.to_csv('box_office_data.csv', index=False)\n",
    "print(\"Box office data saved to 'box_office_data.csv'.\")\n"
   ]
  },
  {
   "cell_type": "markdown",
   "metadata": {},
   "source": [
    "In Part 4, we will be performing some basic analysis of the data you've collected either from Part 2 or Part 3, and then providing a written narrative explaining the results of your analysis.\n",
    "\n",
    "Given the box office data we have, let's discuss some potential analyses we could perform:\n",
    "\n",
    "1.  Trend Analysis: Look at the box office trends over the years. Has there been an increase in the worldwide box office revenue? How has the proportion of domestic vs. foreign revenue changed?\n",
    "\n",
    "2.  Top Performers: Identify which movies were the top performers in terms of worldwide revenue. How many of the top performers are sequels or part of a franchise?\n",
    "\n",
    "3.  Market Analysis: Analyze which countries or regions have seen the most growth in box office revenue. Are there emerging markets that are starting to contribute significantly to the global box office?\n",
    "\n",
    "4.  Genre Analysis: If you have genre data, analyze which genres perform best at the box office. Are certain genres more successful domestically vs. internationally?\n",
    "\n",
    "5.  Inflation Adjustment: Adjust the box office revenue for inflation to see which movies were truly the biggest hits, accounting for the change in the value of money over time.\n",
    "\n",
    "6.  Seasonality: Examine if certain times of the year have higher box office returns. Are summer blockbusters or holiday releases more profitable?\n",
    "\n"
   ]
  },
  {
   "cell_type": "markdown",
   "metadata": {},
   "source": [
    "# Part 4: Data Analysis of Box Office Trends\n",
    "\n",
    "In this section, we will analyze the box office data collected to uncover trends and patterns in the movie industry from 1977 to 2023. We will focus on the worldwide box office revenue trends and explore how the film industry's earnings have evolved over this period.\n"
   ]
  },
  {
   "cell_type": "code",
   "execution_count": 12,
   "metadata": {},
   "outputs": [],
   "source": [
    "import pandas as pd\n",
    "import matplotlib.pyplot as plt\n",
    "\n",
    "# Load the data if not already in memory\n",
    "box_office_data = pd.read_csv('box_office_data.csv')\n",
    "\n",
    "# Convert 'Worldwide' earnings to numeric values after removing the dollar sign and commas\n",
    "box_office_data['Worldwide'] = (\n",
    "    box_office_data['Worldwide']\n",
    "    .replace('[\\$,]', '', regex=True)\n",
    "    .astype(float)\n",
    ")\n",
    "\n",
    "# Ensure 'Year' is of type int for proper sorting\n",
    "box_office_data['Year'] = box_office_data['Year'].astype(int)\n"
   ]
  },
  {
   "cell_type": "markdown",
   "metadata": {},
   "source": [
    "## Worldwide Box Office Revenue Trend Analysis\n",
    "\n",
    "A critical measure of the film industry's success is the worldwide box office revenue. We will analyze how this revenue has changed year-on-year to identify periods of significant growth or decline.\n"
   ]
  },
  {
   "cell_type": "code",
   "execution_count": 13,
   "metadata": {},
   "outputs": [
    {
     "data": {
      "image/png": "[encoded data removed]",
      "text/plain": [
       "<Figure size 1400x700 with 1 Axes>"
      ]
     },
     "metadata": {},
     "output_type": "display_data"
    }
   ],
   "source": [
    "# Group the data by year and calculate the total worldwide earnings\n",
    "yearly_revenue = box_office_data.groupby('Year')['Worldwide'].sum()\n",
    "\n",
    "# Create a line plot to visualize the trend\n",
    "plt.figure(figsize=(14, 7))\n",
    "yearly_revenue.plot(kind='line', marker='o')\n",
    "plt.title('Yearly Worldwide Box Office Revenue (1977-2023)')\n",
    "plt.xlabel('Year')\n",
    "plt.ylabel('Total Worldwide Revenue')\n",
    "plt.grid(True)\n",
    "plt.xticks(range(1977, 2024, 3))\n",
    "plt.tight_layout()\n",
    "plt.show()\n"
   ]
  },
  {
   "cell_type": "code",
   "execution_count": 15,
   "metadata": {},
   "outputs": [
    {
     "data": {
      "image/png": "[encoded data removed]",
      "text/plain": [
       "<Figure size 1400x700 with 1 Axes>"
      ]
     },
     "metadata": {},
     "output_type": "display_data"
    }
   ],
   "source": [
    "import numpy as np\n",
    "\n",
    "# Replace non-numeric strings with NaN\n",
    "box_office_data['Domestic'] = (\n",
    "    box_office_data['Domestic']\n",
    "    .replace('[\\$,]', '', regex=True)\n",
    "    .replace('-', np.nan, regex=True)\n",
    "    .astype(float)\n",
    ")\n",
    "box_office_data['Foreign'] = (\n",
    "    box_office_data['Foreign']\n",
    "    .replace('[\\$,]', '', regex=True)\n",
    "    .replace('-', np.nan, regex=True)\n",
    "    .astype(float)\n",
    ")\n",
    "\n",
    "# Calculate the total earnings and the proportion of earnings that are domestic and foreign\n",
    "box_office_data['Total Earnings'] = box_office_data['Domestic'] + box_office_data['Foreign']\n",
    "box_office_data['Domestic Proportion'] = box_office_data['Domestic'] / box_office_data['Total Earnings']\n",
    "box_office_data['Foreign Proportion'] = box_office_data['Foreign'] / box_office_data['Total Earnings']\n",
    "\n",
    "# Calculate the average proportion of domestic and foreign earnings by year\n",
    "earnings_proportion_by_year = box_office_data.groupby('Year')[['Domestic Proportion', 'Foreign Proportion']].mean()\n",
    "\n",
    "# Plotting the proportions over the years\n",
    "earnings_proportion_by_year.plot(kind='bar', stacked=True, figsize=(14, 7))\n",
    "plt.title('Proportion of Domestic vs. Foreign Earnings by Year')\n",
    "plt.xlabel('Year')\n",
    "plt.ylabel('Average Proportion of Earnings')\n",
    "plt.legend(title='Earnings Proportion')\n",
    "plt.tight_layout()\n",
    "plt.show()\n"
   ]
  },
  {
   "cell_type": "markdown",
   "metadata": {},
   "source": [
    "## Analysis of Domestic vs. Foreign Earnings Proportions\n",
    "\n",
    "The bar chart above illustrates the average proportions of domestic and foreign earnings for movies by year. We can observe a shift in the revenue sources for the film industry. Earlier years show a higher reliance on domestic earnings, which gradually gives way to a more balanced or even foreign-dominated revenue structure. This shift likely reflects the globalization of the movie market, where international audiences have become increasingly significant contributors to a film's financial success.\n",
    "\n",
    "The analysis suggests that movies are not only cultural exports but also significant revenue generators from global markets. Understanding the dynamics of domestic versus foreign earnings can help industry stakeholders strategize their release plans to maximize global box office revenue.\n"
   ]
  },
  {
   "cell_type": "markdown",
   "metadata": {},
   "source": [
    "## Conclusion of Seasonality Analysis\n",
    "\n",
    "\n",
    "The seasonality analysis attempts to identify trends in box office earnings based on the month of release. While we have not executed this analysis due to the absence of release date data, this approach would typically highlight months with traditionally higher box office returns, such as summer blockbuster season and holiday periods.\n",
    "\n",
    "If release date data were available, we would expect to see higher earnings during these peak periods. This information could be invaluable for distributors and marketers in planning release dates to optimize box office returns.\n"
   ]
  },
  {
   "cell_type": "markdown",
   "metadata": {},
   "source": [
    "## Conclusion of Trend Analysis\n",
    "\n",
    "The line plot of yearly worldwide box office revenue reveals several insights. There is a general upward trend in revenue, indicating that the global film industry has grown substantially from 1977 to 2023. Notable peaks correspond to years with blockbuster releases, while troughs may align with economic downturns or industry-wide challenges such as the transition to digital formats or the impact of streaming services.\n",
    "\n",
    "This analysis provides a foundational understanding of the box office market's performance and can be further refined by examining other factors such as inflation, genre popularity, and regional market growth.\n"
   ]
  },
  {
   "cell_type": "markdown",
   "metadata": {},
   "source": [
    "## Conclusion\n",
    "\n",
    "The sitemap data from NFL.com has been successfully extracted and saved. This dataset contains a total of 260,647 URLs, which provides extensive coverage of the content available on the website. This data can be used for numerous applications such as SEO analysis, content auditing, or as a starting point for a more targeted web scraping project.\n",
    "\n",
    "\n",
    "The data fetching process has been successfully completed using the `CountryDataFetcher` class. The resulting DataFrame provides a rich dataset on countries that could be used for a variety of analytical purposes, such as demographic studies, geographical analysis, or as part of a larger data integration task for machine learning projects.\n"
   ]
  }
 ],
 "metadata": {
  "kernelspec": {
   "display_name": "Python 3",
   "language": "python",
   "name": "python3"
  },
  "language_info": {
   "codemirror_mode": {
    "name": "ipython",
    "version": 3
   },
   "file_extension": ".py",
   "mimetype": "text/x-python",
   "name": "python",
   "nbconvert_exporter": "python",
   "pygments_lexer": "ipython3",
   "version": "3.11.0"
  }
 },
 "nbformat": 4,
 "nbformat_minor": 2
}
